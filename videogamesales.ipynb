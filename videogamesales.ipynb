{
 "cells": [
  {
   "cell_type": "markdown",
   "metadata": {},
   "source": [
    "***GENERATED CODE FOR videogamesales PIPELINE.***"
   ]
  },
  {
   "cell_type": "markdown",
   "metadata": {},
   "source": [
    "***DON'T EDIT THIS CODE.***"
   ]
  },
  {
   "cell_type": "markdown",
   "metadata": {},
   "source": [
    "***CONNECTOR FUNCTIONS TO READ DATA.***"
   ]
  },
  {
   "cell_type": "code",
   "execution_count": null,
   "metadata": {},
   "outputs": [],
   "source": []
  },
  {
   "cell_type": "markdown",
   "metadata": {},
   "source": [
    "***TRANSFORMATIONS FUNCTIONS THAT WILL BE APPLIED ON DATA***"
   ]
  },
  {
   "cell_type": "code",
   "execution_count": null,
   "metadata": {},
   "outputs": [],
   "source": [
    "import json\n",
    "from pyspark.sql.types import IntegerType\n",
    "from pyspark.ml.feature import StringIndexer\n",
    "from pyspark.sql.functions import col, when\n",
    "from pyspark.sql.types import IntegerType\n",
    "from pyspark.sql.functions import mean, stddev, min, max, col\n",
    "\n",
    "\n",
    "class CleanseData:\n",
    "    # def __init__(self,df):\n",
    "    #     #print()\n",
    "\n",
    "    def replaceByMean(self, feature, df, mean_=-1):\n",
    "\n",
    "        meanValue = df.select(mean(col(feature.name)).alias(\n",
    "            'mean')).collect()[0][\"mean\"]\n",
    "        df.fillna(meanValue, subset=[feature.name])\n",
    "        df.withColumn(feature.name, when(col(feature.name) == \" \",\n",
    "                                         meanValue).otherwise(col(feature.name).cast(\"Integer\")))\n",
    "        return df\n",
    "\n",
    "    def replaceByMax(self, feature, df, max_=-1):\n",
    "        maxValue = df.select(max(col(feature.name)).alias('max')).collect()[\n",
    "            0][\"max\"]\n",
    "        df.fillna(maxValue, subset=[feature.name])\n",
    "        df = df.withColumn(feature.name,\n",
    "                           when(col(feature.name) == \" \", maxValue).otherwise(col(feature.name)))\n",
    "        return df\n",
    "\n",
    "    def replaceByMin(self, feature, df, min_=-1):\n",
    "        minValue = df.select(min(col(feature.name)).alias('min')).collect()[\n",
    "            0][\"min\"]\n",
    "        df.fillna(minValue, subset=[feature.name])\n",
    "        df = df.withColumn(feature.name,\n",
    "                           when(col(feature.name) == \" \", minValue).otherwise(col(feature.name)))\n",
    "        return df\n",
    "\n",
    "    def replaceByStandardDeviation(self, feature, df, stddev_=-1):\n",
    "        stddevValue = df.select(stddev(col(feature.name)).alias(\n",
    "            'stddev')).collect()[0][\"stddev\"]\n",
    "        df.fillna(stddevValue, subset=[feature.name])\n",
    "        df = df.withColumn(feature.name,\n",
    "                           when(col(feature.name) == \" \", stddevValue).otherwise(col(feature.name)))\n",
    "        return df\n",
    "\n",
    "    def replaceDateRandomly(self, feature, df):\n",
    "        fillValue = df.where(col(feature.name).isNotNull()\n",
    "                             ).head(1)[0][feature.name]\n",
    "        df.fillna(str(fillValue), subset=[feature.name])\n",
    "        df = df.withColumn(feature.name,\n",
    "                           when(col(feature.name) == \" \", fillValue).otherwise(col(feature.name)))\n",
    "        # print(\"CleanseData:replaceDateRandomly Schema : \", df.#printSchema())\n",
    "        return df\n",
    "\n",
    "    def replaceNullValues(self, fList, df):\n",
    "        featuresList = df.schema.fields\n",
    "        for featureObj in fList:\n",
    "            for feat in featuresList:\n",
    "                if featureObj[\"feature\"] in feat.name:\n",
    "                    featureName = feat\n",
    "                    if \"mean\" in featureObj[\"replaceby\"]:\n",
    "                        df = self.replaceByMean(featureName, df)\n",
    "                    elif \"max\" in featureObj[\"replaceby\"]:\n",
    "                        df = self.replaceByMax(featureName, df)\n",
    "                    elif \"min\" in featureObj[\"replaceby\"]:\n",
    "                        df = self.replaceByMin(featureName, df)\n",
    "                    elif \"stddev\" in featureObj[\"replaceby\"]:\n",
    "                        df = self.replaceByStandardDeviation(featureName, df)\n",
    "                    elif \"random\" in featureObj[\"replaceby\"]:\n",
    "                        df = self.replaceDateRandomly(featureName, df)\n",
    "        return df\n",
    "\n",
    "\n",
    "def StringIndexerTransform(df, params, transformationData={}):\n",
    "    dfReturn = df\n",
    "    feature = params[\"feature\"]\n",
    "\n",
    "    dfReturn = dfReturn.fillna({feature: ''})\n",
    "    outcol = feature + \"_stringindexer\"\n",
    "    indexer = StringIndexer(\n",
    "        inputCol=feature, outputCol=outcol, handleInvalid=\"skip\")\n",
    "    indexed = indexer.fit(dfReturn).transform(dfReturn)\n",
    "    dfReturn = indexed\n",
    "    distinct_values_list = dfReturn.select(\n",
    "        outcol).distinct().rdd.map(lambda r: r[0]).collect()\n",
    "    len_distinct_values_list = len(distinct_values_list)\n",
    "    if len_distinct_values_list <= 4:\n",
    "        changed_type_df = dfReturn.withColumn(\n",
    "            outcol, dfReturn[outcol].cast(IntegerType()))\n",
    "        return changed_type_df\n",
    "    return dfReturn\n",
    "\n",
    "\n",
    "class TransformationMain:\n",
    "    # TODO: change df argument in run with following\n",
    "    def run(transformationDF, config):\n",
    "        configObj = json.loads(config)\n",
    "        featureData = configObj[\"FE\"]\n",
    "        transformationDF = CleanseData().replaceNullValues(featureData, transformationDF)\n",
    "        transformationDF = StringIndexerTransform(transformationDF, {'transformationsData': [{'feature_label': 'Name', 'transformation_label': 'String Indexer'}], 'feature': 'Name', 'type': 'string', 'selected': 'True', 'replaceby': 'max', 'stats': {\n",
    "                                                  'count': '342', 'mean': '', 'stddev': '', 'min': '2010 FIFA World Cup South Africa', 'max': 'X-Men Legends', 'missing': '0'}, 'transformation': [{'transformation': 'String Indexer', 'selectedAsDefault': 1}], 'updatedLabel': 'Name'}, {'feature_label': 'Name', 'transformation_label': 'String Indexer'})\n",
    "        transformationDF = transformationDF.drop('Name')\n",
    "        transformationDF = StringIndexerTransform(transformationDF, {'transformationsData': [{'feature_label': 'Platform', 'transformation_label': 'String Indexer'}], 'feature': 'Platform', 'type': 'string', 'selected': 'True', 'replaceby': 'max', 'stats': {\n",
    "            'count': '342', 'mean': '', 'stddev': '', 'min': '3DS', 'max': 'XOne', 'missing': '0'}, 'transformation': [{'transformation': 'String Indexer', 'selectedAsDefault': 1}], 'updatedLabel': 'Platform'}, {'feature_label': 'Platform', 'transformation_label': 'String Indexer'})\n",
    "        transformationDF = transformationDF.drop('Platform')\n",
    "        transformationDF = StringIndexerTransform(transformationDF, {'transformationsData': [{'feature_label': 'Year_of_Release', 'transformation_label': 'String Indexer'}], 'feature': 'Year_of_Release', 'type': 'string', 'selected': 'True', 'replaceby': 'max', 'stats': {\n",
    "            'count': '342', 'mean': '2007.12', 'stddev': '4.26', 'min': '1998', 'max': 'N/A', 'missing': '0'}, 'transformation': [{'transformation': 'String Indexer', 'selectedAsDefault': 1}], 'updatedLabel': 'Year_of_Release'}, {'feature_label': 'Year_of_Release', 'transformation_label': 'String Indexer'})\n",
    "        transformationDF = transformationDF.drop('Year_of_Release')\n",
    "        transformationDF = StringIndexerTransform(transformationDF, {'transformationsData': [{'feature_label': 'Genre', 'transformation_label': 'String Indexer'}], 'feature': 'Genre', 'type': 'string', 'selected': 'True', 'replaceby': 'max', 'stats': {\n",
    "            'count': '342', 'mean': '', 'stddev': '', 'min': 'Action', 'max': 'Strategy', 'missing': '0'}, 'transformation': [{'transformation': 'String Indexer', 'selectedAsDefault': 1}], 'updatedLabel': 'Genre'}, {'feature_label': 'Genre', 'transformation_label': 'String Indexer'})\n",
    "        transformationDF = transformationDF.drop('Genre')\n",
    "        transformationDF = StringIndexerTransform(transformationDF, {'transformationsData': [{'feature_label': 'Publisher', 'transformation_label': 'String Indexer'}], 'feature': 'Publisher', 'type': 'string', 'selected': 'True', 'replaceby': 'max', 'stats': {\n",
    "            'count': '342', 'mean': '', 'stddev': '', 'min': '3DO', 'max': 'Zoo Digital Publishing', 'missing': '0'}, 'transformation': [{'transformation': 'String Indexer', 'selectedAsDefault': 1}], 'updatedLabel': 'Publisher'}, {'feature_label': 'Publisher', 'transformation_label': 'String Indexer'})\n",
    "        transformationDF = transformationDF.drop('Publisher')\n",
    "        transformationDF = StringIndexerTransform(transformationDF, {'transformationsData': [{'feature_label': 'User_Score', 'transformation_label': 'String Indexer'}], 'feature': 'User_Score', 'type': 'string', 'selected': 'True', 'replaceby': 'max', 'stats': {\n",
    "            'count': '342', 'mean': '7.15', 'stddev': '1.39', 'min': '2.1', 'max': '9.4', 'missing': '0'}, 'transformation': [{'transformation': 'String Indexer', 'selectedAsDefault': 1}], 'updatedLabel': 'User_Score'}, {'feature_label': 'User_Score', 'transformation_label': 'String Indexer'})\n",
    "        transformationDF = transformationDF.drop('User_Score')\n",
    "        transformationDF = StringIndexerTransform(transformationDF, {'transformationsData': [{'feature_label': 'Developer', 'transformation_label': 'String Indexer'}], 'feature': 'Developer', 'type': 'string', 'selected': 'True', 'replaceby': 'max', 'stats': {\n",
    "            'count': '342', 'mean': '', 'stddev': '', 'min': '3DO', 'max': 'neo Software', 'missing': '0'}, 'transformation': [{'transformation': 'String Indexer', 'selectedAsDefault': 1}], 'updatedLabel': 'Developer'}, {'feature_label': 'Developer', 'transformation_label': 'String Indexer'})\n",
    "        transformationDF = transformationDF.drop('Developer')\n",
    "        transformationDF = StringIndexerTransform(transformationDF, {'transformationsData': [{'feature_label': 'Rating', 'transformation_label': 'String Indexer'}], 'feature': 'Rating', 'type': 'string', 'selected': 'True', 'replaceby': 'max', 'stats': {\n",
    "            'count': '342', 'mean': '', 'stddev': '', 'min': 'E', 'max': 'T', 'missing': '0'}, 'transformation': [{'transformation': 'String Indexer', 'selectedAsDefault': 1}], 'updatedLabel': 'Rating'}, {'feature_label': 'Rating', 'transformation_label': 'String Indexer'})\n",
    "        transformationDF = transformationDF.drop('Rating')\n",
    "        display(transformationDF.limit(2).toPandas())\n",
    "        return transformationDF\n"
   ]
  },
  {
   "cell_type": "markdown",
   "metadata": {},
   "source": [
    "***AUTOML FUNCTIONS***"
   ]
  },
  {
   "cell_type": "code",
   "execution_count": null,
   "metadata": {},
   "outputs": [],
   "source": [
    "from sklearn.model_selection import train_test_split\n",
    "from tpot import TPOTRegressor\n",
    "import pyspark\n",
    "\n",
    "\n",
    "def functionRegression(sparkDF, listOfFeatures, label):\n",
    "    sparkDF.persist(pyspark.StorageLevel.MEMORY_AND_DISK)\n",
    "    df = sparkDF.toPandas()\n",
    "    X = (df.drop(label, axis=1))[listOfFeatures].values\n",
    "    y = df[label].values\n",
    "    X_train, X_test, y_train, y_test = train_test_split(\n",
    "        X, y, random_state=1, test_size=0.1)\n",
    "    tpotModel = TPOTRegressor(verbosity=3, generations=10, max_time_mins=5,\n",
    "                              n_jobs=-1, random_state=25, population_size=15)\n",
    "    tpotModel.fit(X_train, y_train)\n",
    "    display(\" Error rate of Model : %s\" % tpotModel.score(X_test, y_test))\n",
    "    data = {'model': tpotModel,\n",
    "            'X_test': X_test,\n",
    "            'y_test': y_test,\n",
    "            'label': label,\n",
    "            'columnNames': listOfFeatures}\n",
    "    return data\n"
   ]
  },
  {
   "cell_type": "markdown",
   "metadata": {},
   "source": [
    "***READING DATAFRAME***"
   ]
  },
  {
   "cell_type": "code",
   "execution_count": null,
   "metadata": {},
   "outputs": [],
   "source": [
    "#%run videogamesalesHooks.ipynb\n",
    "try:\n",
    "\t#sourcePreExecutionHook()\n",
    "\n",
    "\tvideogamessalestain = HDFSConnector.fetch(spark, \"{'url': '/FileStore/platform/uploadedSourceFiles/1611571504688_Video_Games_Sales_Tain.csv', 'file_type': 'Delimeted', 'delimiter': ',', 'is_header': 'Use Header Line', 'FilePath': '/Retail and Marketing models/Video game sales/Video_Games_Sales_Test.csv', 'filename': '1611571504688_Video_Games_Sales_Tain.csv', 'viewFileName': 'Video_Games_Sales_Tain.csv'}\")\n",
    "\n",
    "except Exception as ex: \n",
    "\tlogging.error(ex)\n"
   ]
  },
  {
   "cell_type": "markdown",
   "metadata": {},
   "source": [
    "***TRANSFORMING DATAFRAME***"
   ]
  },
  {
   "cell_type": "code",
   "execution_count": null,
   "metadata": {},
   "outputs": [],
   "source": [
    "#%run videogamesalesHooks.ipynb\n",
    "try:\n",
    "\t#transformationPreExecutionHook()\n",
    "\n",
    "\tautofe = TransformationMain.run(videogamessalestain,json.dumps( {\"FE\": [{\"transformationsData\": [{\"feature_label\": \"Name\", \"transformation_label\": \"String Indexer\"}], \"feature\": \"Name\", \"type\": \"string\", \"selected\": \"True\", \"replaceby\": \"max\", \"stats\": {\"count\": \"342\", \"mean\": \"\", \"stddev\": \"\", \"min\": \"2010 FIFA World Cup South Africa\", \"max\": \"X-Men Legends\", \"missing\": \"0\"}, \"transformation\": [{\"transformation\": \"String Indexer\", \"selectedAsDefault\": 1}], \"updatedLabel\": \"Name\"}, {\"transformationsData\": [{\"feature_label\": \"Platform\", \"transformation_label\": \"String Indexer\"}], \"feature\": \"Platform\", \"type\": \"string\", \"selected\": \"True\", \"replaceby\": \"max\", \"stats\": {\"count\": \"342\", \"mean\": \"\", \"stddev\": \"\", \"min\": \"3DS\", \"max\": \"XOne\", \"missing\": \"0\"}, \"transformation\": [{\"transformation\": \"String Indexer\", \"selectedAsDefault\": 1}], \"updatedLabel\": \"Platform\"}, {\"transformationsData\": [{\"feature_label\": \"Year_of_Release\", \"transformation_label\": \"String Indexer\"}], \"feature\": \"Year_of_Release\", \"type\": \"string\", \"selected\": \"True\", \"replaceby\": \"max\", \"stats\": {\"count\": \"342\", \"mean\": \"2007.12\", \"stddev\": \"4.26\", \"min\": \"1998\", \"max\": \"N/A\", \"missing\": \"0\"}, \"transformation\": [{\"transformation\": \"String Indexer\", \"selectedAsDefault\": 1}], \"updatedLabel\": \"Year_of_Release\"}, {\"transformationsData\": [{\"feature_label\": \"Genre\", \"transformation_label\": \"String Indexer\"}], \"feature\": \"Genre\", \"type\": \"string\", \"selected\": \"True\", \"replaceby\": \"max\", \"stats\": {\"count\": \"342\", \"mean\": \"\", \"stddev\": \"\", \"min\": \"Action\", \"max\": \"Strategy\", \"missing\": \"0\"}, \"transformation\": [{\"transformation\": \"String Indexer\", \"selectedAsDefault\": 1}], \"updatedLabel\": \"Genre\"}, {\"transformationsData\": [{\"feature_label\": \"Publisher\", \"transformation_label\": \"String Indexer\"}], \"feature\": \"Publisher\", \"type\": \"string\", \"selected\": \"True\", \"replaceby\": \"max\", \"stats\": {\"count\": \"342\", \"mean\": \"\", \"stddev\": \"\", \"min\": \"3DO\", \"max\": \"Zoo Digital Publishing\", \"missing\": \"0\"}, \"transformation\": [{\"transformation\": \"String Indexer\", \"selectedAsDefault\": 1}], \"updatedLabel\": \"Publisher\"}, {\"transformationsData\": [{\"transformation_label\": \"novalue\"}], \"feature\": \"NA_Sales\", \"type\": \"real\", \"selected\": \"True\", \"replaceby\": \"mean\", \"stats\": {\"count\": \"342\", \"mean\": \"0.38\", \"stddev\": \"0.73\", \"min\": \"0.0\", \"max\": \"9.71\", \"missing\": \"0\"}, \"transformation\": [{\"transformation\": \"novalue\", \"selectedAsDefault\": 1}], \"updatedLabel\": \"NA_Sales\"}, {\"transformationsData\": [{\"transformation_label\": \"novalue\"}], \"feature\": \"EU_Sales\", \"type\": \"real\", \"selected\": \"True\", \"replaceby\": \"mean\", \"stats\": {\"count\": \"342\", \"mean\": \"0.24\", \"stddev\": \"0.61\", \"min\": \"0.0\", \"max\": \"7.47\", \"missing\": \"0\"}, \"transformation\": [{\"transformation\": \"novalue\", \"selectedAsDefault\": 1}], \"updatedLabel\": \"EU_Sales\"}, {\"transformationsData\": [{\"transformation_label\": \"novalue\"}], \"feature\": \"JP_Sales\", \"type\": \"real\", \"selected\": \"True\", \"replaceby\": \"mean\", \"stats\": {\"count\": \"342\", \"mean\": \"0.07\", \"stddev\": \"0.35\", \"min\": \"0.0\", \"max\": \"4.13\", \"missing\": \"0\"}, \"transformation\": [{\"transformation\": \"novalue\", \"selectedAsDefault\": 1}], \"updatedLabel\": \"JP_Sales\"}, {\"transformationsData\": [{\"transformation_label\": \"novalue\"}], \"feature\": \"Other_Sales\", \"type\": \"real\", \"selected\": \"True\", \"replaceby\": \"mean\", \"stats\": {\"count\": \"342\", \"mean\": \"0.08\", \"stddev\": \"0.17\", \"min\": \"0.0\", \"max\": \"1.9\", \"missing\": \"0\"}, \"transformation\": [{\"transformation\": \"novalue\", \"selectedAsDefault\": 1}], \"updatedLabel\": \"Other_Sales\"}, {\"transformationsData\": [{\"transformation_label\": \"novalue\"}], \"feature\": \"Global_Sales\", \"type\": \"real\", \"selected\": \"True\", \"replaceby\": \"mean\", \"stats\": {\"count\": \"342\", \"mean\": \"0.77\", \"stddev\": \"1.65\", \"min\": \"0.01\", \"max\": \"23.21\", \"missing\": \"0\"}, \"transformation\": [{\"transformation\": \"novalue\", \"selectedAsDefault\": 1}], \"updatedLabel\": \"Global_Sales\"}, {\"transformationsData\": [{\"transformation_label\": \"novalue\"}], \"feature\": \"Critic_Score\", \"transformation\": [{\"transformation\": \"novalue\", \"selectedAsDefault\": 1}], \"type\": \"numeric\", \"replaceby\": \"mean\", \"selected\": \"True\", \"stats\": {\"count\": \"342\", \"mean\": \"69.72\", \"stddev\": \"14.01\", \"min\": \"26\", \"max\": \"94\", \"missing\": \"0\"}, \"updatedLabel\": \"Critic_Score\"}, {\"transformationsData\": [{\"transformation_label\": \"novalue\"}], \"feature\": \"Critic_Count\", \"transformation\": [{\"transformation\": \"novalue\", \"selectedAsDefault\": 1}], \"type\": \"numeric\", \"replaceby\": \"mean\", \"selected\": \"True\", \"stats\": {\"count\": \"342\", \"mean\": \"28.62\", \"stddev\": \"18.35\", \"min\": \"4\", \"max\": \"95\", \"missing\": \"0\"}, \"updatedLabel\": \"Critic_Count\"}, {\"transformationsData\": [{\"feature_label\": \"User_Score\", \"transformation_label\": \"String Indexer\"}], \"feature\": \"User_Score\", \"type\": \"string\", \"selected\": \"True\", \"replaceby\": \"max\", \"stats\": {\"count\": \"342\", \"mean\": \"7.15\", \"stddev\": \"1.39\", \"min\": \"2.1\", \"max\": \"9.4\", \"missing\": \"0\"}, \"transformation\": [{\"transformation\": \"String Indexer\", \"selectedAsDefault\": 1}], \"updatedLabel\": \"User_Score\"}, {\"transformationsData\": [{\"transformation_label\": \"novalue\"}], \"feature\": \"User_Count\", \"transformation\": [{\"transformation\": \"novalue\", \"selectedAsDefault\": 1}], \"type\": \"numeric\", \"replaceby\": \"mean\", \"selected\": \"True\", \"stats\": {\"count\": \"342\", \"mean\": \"167.8\", \"stddev\": \"567.35\", \"min\": \"4\", \"max\": \"7322\", \"missing\": \"0\"}, \"updatedLabel\": \"User_Count\"}, {\"transformationsData\": [{\"feature_label\": \"Developer\", \"transformation_label\": \"String Indexer\"}], \"feature\": \"Developer\", \"type\": \"string\", \"selected\": \"True\", \"replaceby\": \"max\", \"stats\": {\"count\": \"342\", \"mean\": \"\", \"stddev\": \"\", \"min\": \"3DO\", \"max\": \"neo Software\", \"missing\": \"0\"}, \"transformation\": [{\"transformation\": \"String Indexer\", \"selectedAsDefault\": 1}], \"updatedLabel\": \"Developer\"}, {\"transformationsData\": [{\"feature_label\": \"Rating\", \"transformation_label\": \"String Indexer\"}], \"feature\": \"Rating\", \"type\": \"string\", \"selected\": \"True\", \"replaceby\": \"max\", \"stats\": {\"count\": \"342\", \"mean\": \"\", \"stddev\": \"\", \"min\": \"E\", \"max\": \"T\", \"missing\": \"0\"}, \"transformation\": [{\"transformation\": \"String Indexer\", \"selectedAsDefault\": 1}], \"updatedLabel\": \"Rating\"}, {\"feature\": \"Name_stringindexer_transform\", \"transformation\": [{\"transformation\": \"novalue\", \"selectedAsDefault\": 0}], \"transformationsData\": [{\"transformation_label\": \"novalue\"}], \"type\": \"real\", \"selected\": \"True\", \"stats\": {\"count\": \"342\", \"mean\": \"166.55\", \"stddev\": \"98.79\", \"min\": \"0.0\", \"max\": \"337.0\", \"missing\": \"0\"}, \"updatedLabel\": \"Name_stringindexer_transf...\"}, {\"feature\": \"Platform_stringindexer_transform\", \"transformation\": [{\"transformation\": \"novalue\", \"selectedAsDefault\": 0}], \"transformationsData\": [{\"transformation_label\": \"novalue\"}], \"type\": \"real\", \"selected\": \"True\", \"stats\": {\"count\": \"342\", \"mean\": \"4.47\", \"stddev\": \"3.98\", \"min\": \"0.0\", \"max\": \"15.0\", \"missing\": \"0\"}, \"updatedLabel\": \"Platform_stringindexer_tr...\"}, {\"feature\": \"Year_of_Release_stringindexer_transform\", \"transformation\": [{\"transformation\": \"novalue\", \"selectedAsDefault\": 0}], \"transformationsData\": [{\"transformation_label\": \"novalue\"}], \"type\": \"real\", \"selected\": \"True\", \"stats\": {\"count\": \"342\", \"mean\": \"6.4\", \"stddev\": \"4.81\", \"min\": \"0.0\", \"max\": \"19.0\", \"missing\": \"0\"}, \"updatedLabel\": \"Year_of_Release_stringind...\"}, {\"feature\": \"Genre_stringindexer_transform\", \"transformation\": [{\"transformation\": \"novalue\", \"selectedAsDefault\": 0}], \"transformationsData\": [{\"transformation_label\": \"novalue\"}], \"type\": \"real\", \"selected\": \"True\", \"stats\": {\"count\": \"342\", \"mean\": \"3.26\", \"stddev\": \"3.12\", \"min\": \"0.0\", \"max\": \"11.0\", \"missing\": \"0\"}, \"updatedLabel\": \"Genre_stringindexer_trans...\"}, {\"feature\": \"Publisher_stringindexer_transform\", \"transformation\": [{\"transformation\": \"novalue\", \"selectedAsDefault\": 0}], \"transformationsData\": [{\"transformation_label\": \"novalue\"}], \"type\": \"real\", \"selected\": \"True\", \"stats\": {\"count\": \"342\", \"mean\": \"13.34\", \"stddev\": \"15.95\", \"min\": \"0.0\", \"max\": \"70.0\", \"missing\": \"0\"}, \"updatedLabel\": \"Publisher_stringindexer_t...\"}, {\"feature\": \"User_Score_stringindexer_transform\", \"transformation\": [{\"transformation\": \"novalue\", \"selectedAsDefault\": 0}], \"transformationsData\": [{\"transformation_label\": \"novalue\"}], \"type\": \"real\", \"selected\": \"True\", \"stats\": {\"count\": \"342\", \"mean\": \"17.54\", \"stddev\": \"14.4\", \"min\": \"0.0\", \"max\": \"59.0\", \"missing\": \"0\"}, \"updatedLabel\": \"User_Score_stringindexer_...\"}, {\"feature\": \"Developer_stringindexer_transform\", \"transformation\": [{\"transformation\": \"novalue\", \"selectedAsDefault\": 0}], \"transformationsData\": [{\"transformation_label\": \"novalue\"}], \"type\": \"real\", \"selected\": \"True\", \"stats\": {\"count\": \"342\", \"mean\": \"88.63\", \"stddev\": \"74.62\", \"min\": \"0.0\", \"max\": \"238.0\", \"missing\": \"0\"}, \"updatedLabel\": \"Developer_stringindexer_t...\"}, {\"feature\": \"Rating_stringindexer_transform\", \"transformation\": [{\"transformation\": \"novalue\", \"selectedAsDefault\": 0}], \"transformationsData\": [{\"transformation_label\": \"novalue\"}], \"type\": \"numeric\", \"selected\": \"True\", \"stats\": {\"count\": \"342\", \"mean\": \"1.05\", \"stddev\": \"1.0\", \"min\": \"0\", \"max\": \"3\", \"missing\": \"0\"}, \"updatedLabel\": \"Rating_stringindexer_tran...\"}]}))\n",
    "\n",
    "\t#transformationPostExecutionHook(autofe)\n",
    "\n",
    "except Exception as ex: \n",
    "\tlogging.error(ex)\n"
   ]
  },
  {
   "cell_type": "markdown",
   "metadata": {},
   "source": [
    "***TRAIN MODEL***"
   ]
  },
  {
   "cell_type": "code",
   "execution_count": null,
   "metadata": {},
   "outputs": [],
   "source": [
    "#%run videogamesalesHooks.ipynb\n",
    "try:\n",
    "\t#mlPreExecutionHook()\n",
    "\n",
    "\tdataAutoML=functionRegression(autofe, [\"Name_stringindexer\", \"Platform_stringindexer\", \"Year_of_Release_stringindexer\", \"Genre_stringindexer\", \"Publisher_stringindexer\", \"NA_Sales\", \"EU_Sales\", \"JP_Sales\", \"Other_Sales\", \"Critic_Score\", \"Critic_Count\", \"User_Score_stringindexer\", \"User_Count\", \"Developer_stringindexer\", \"Rating_stringindexer\"], \"Global_Sales\")\n",
    "\n",
    "\t#mlPostExecutionHook(dataAutoML)\n",
    "\n",
    "except Exception as ex: \n",
    "\tlogging.error(ex)\n"
   ]
  },
  {
   "cell_type": "markdown",
   "metadata": {},
   "source": [
    "***PREDICT ON TRAINED MODEL***"
   ]
  },
  {
   "cell_type": "code",
   "execution_count": null,
   "metadata": {},
   "outputs": [],
   "source": [
    "import pandas as pd\n",
    "import numpy as np\n",
    "import sklearn.metrics\n",
    "\n",
    "try:\n",
    "    model=dataAutoML ['model']\n",
    "    X_test=dataAutoML['X_test']\n",
    "    y_test=dataAutoML['y_test']\n",
    "    label=dataAutoML['label']\n",
    "    columnNames=dataAutoML['columnNames']\n",
    "    if label in columnNames:\n",
    "        columnNames.remove(label)\n",
    "    predicted=label+\"_predicted\"\n",
    "    y_predicted=model.predict(X_test)\n",
    "    df =pd.DataFrame(X_test , columns=columnNames)\n",
    "    df[label]=y_test\n",
    "    df[predicted]=y_predicted\n",
    "    columnNames.insert(0,predicted)\n",
    "    columnNames.insert(0,label)\n",
    "    df = df[columnNames]\n",
    "    R2 = np.round(sklearn.metrics.r2_score(y_test, y_predicted), 1)\n",
    "    Mean_Squared_Error = np.round(sklearn.metrics.mean_squared_error(y_test, y_predicted), 1)\n",
    "    Mean_Absolute_Error = np.round(sklearn.metrics.mean_absolute_error(y_test, y_predicted), 1)\n",
    "    display(\" R2 score of Prediction on test data    : %s\"%R2)\n",
    "    display(\" Mean Squared Error of Prediction on test data    : %s\"%Mean_Squared_Error)\n",
    "    display(\" Mean Absolute Error of Prediction on test data   : %s\"%Mean_Absolute_Error)\n",
    "    display(df.head())\n",
    "except Exception as ex:\n",
    "    logging.error(ex)\n",
    "\n"
   ]
  }
 ],
 "metadata": {},
 "nbformat": 4,
 "nbformat_minor": 2
}
